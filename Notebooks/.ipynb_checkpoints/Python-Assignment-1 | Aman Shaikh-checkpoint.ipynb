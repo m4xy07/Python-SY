{
 "cells": [
  {
   "cell_type": "markdown",
   "metadata": {
    "id": "dhnJRcA3UZmX"
   },
   "source": [
    "Assignment -  1 | Unit - 1"
   ]
  },
  {
   "cell_type": "markdown",
   "metadata": {
    "id": "ZM1_KjkpU1hd"
   },
   "source": [
    "Question - 1 | Write a Python statement that calculates and prints the area of a triangle with base 8\n",
    "and height 5.\n",
    "(Area = 1/2 * base * height)"
   ]
  },
  {
   "cell_type": "code",
   "execution_count": 3,
   "metadata": {
    "colab": {
     "base_uri": "https://localhost:8080/"
    },
    "executionInfo": {
     "elapsed": 4949,
     "status": "ok",
     "timestamp": 1723780716481,
     "user": {
      "displayName": "Aman Shaikh",
      "userId": "00149777695970566427"
     },
     "user_tz": -330
    },
    "id": "bajmCoTvUUtl",
    "outputId": "dd0df9a1-221b-4ae0-a4c1-2343a52a0062"
   },
   "outputs": [
    {
     "name": "stdout",
     "output_type": "stream",
     "text": [
      "Enter value of base : 8\n",
      "Enter value of height : 5\n",
      "Area of triangle =  20.0\n"
     ]
    }
   ],
   "source": [
    "base = int(input(\"Enter value of base : \"))\n",
    "height = int(input(\"Enter value of height : \"))\n",
    "\n",
    "area = 0.5 * base * height\n",
    "print(\"Area of triangle = \", area)"
   ]
  },
  {
   "cell_type": "markdown",
   "metadata": {
    "id": "Y-TDsuziU9n_"
   },
   "source": [
    "Question - 2 | There are 3600 seconds in an hour. Write a Python statement that calculates and\n",
    "prints the number of seconds in 12 hours and 30 minutes."
   ]
  },
  {
   "cell_type": "code",
   "execution_count": 2,
   "metadata": {
    "colab": {
     "base_uri": "https://localhost:8080/"
    },
    "executionInfo": {
     "elapsed": 6674,
     "status": "ok",
     "timestamp": 1723780707548,
     "user": {
      "displayName": "Aman Shaikh",
      "userId": "00149777695970566427"
     },
     "user_tz": -330
    },
    "id": "oEeGw1LFVKZZ",
    "outputId": "677e92df-ccdd-48b0-c0b3-549c4edb0ece"
   },
   "outputs": [
    {
     "name": "stdout",
     "output_type": "stream",
     "text": [
      "Enter hours 12\n",
      "Enter Minutes30\n",
      "Total seconds = 45000\n"
     ]
    }
   ],
   "source": [
    "hours, min = int(input(\"Enter hours \")), int(input(\"Enter Minutes\"))\n",
    "sec = hours * 3600 + min * 60\n",
    "print(f\"Total seconds = {sec}\")"
   ]
  },
  {
   "cell_type": "markdown",
   "metadata": {
    "id": "-ZAg6UMtVYbp"
   },
   "source": [
    "Question - 3 | Write a Python statement that converts 75 degrees Fahrenheit to Celsius using the\n",
    "formula C = (F - 32) * 5/9 and prints the result."
   ]
  },
  {
   "cell_type": "code",
   "execution_count": 4,
   "metadata": {
    "colab": {
     "base_uri": "https://localhost:8080/"
    },
    "executionInfo": {
     "elapsed": 3666,
     "status": "ok",
     "timestamp": 1723780859595,
     "user": {
      "displayName": "Aman Shaikh",
      "userId": "00149777695970566427"
     },
     "user_tz": -330
    },
    "id": "2AtDEDChWBQ5",
    "outputId": "f071829a-74f0-467f-a472-ea8df110045c"
   },
   "outputs": [
    {
     "name": "stdout",
     "output_type": "stream",
     "text": [
      "Enter temperature in Fahrenheit : 75\n",
      "Temperature in Celsius = 23.88888888888889\n"
     ]
    }
   ],
   "source": [
    "fahr = int(input(\"Enter temperature in Fahrenheit: \"))\n",
    "cel = (fahr - 32) * 5/9\n",
    "print(f\"Temperature in Celsius = {cel}\")"
   ]
  },
  {
   "cell_type": "markdown",
   "metadata": {
    "id": "p00D0awHWKzk"
   },
   "source": [
    "Question - 4 | Write a Python statement that converts 15 kilometers to miles. (1 mile = 1.60934\n",
    "kilometers)"
   ]
  },
  {
   "cell_type": "code",
   "execution_count": 6,
   "metadata": {
    "colab": {
     "base_uri": "https://localhost:8080/"
    },
    "executionInfo": {
     "elapsed": 26045,
     "status": "ok",
     "timestamp": 1723780937215,
     "user": {
      "displayName": "Aman Shaikh",
      "userId": "00149777695970566427"
     },
     "user_tz": -330
    },
    "id": "VwJMw75gWNNJ",
    "outputId": "6a890fa4-b536-4a52-fbae-a20e2044ed68"
   },
   "outputs": [
    {
     "name": "stdout",
     "output_type": "stream",
     "text": [
      "Enter distance in Kilometers:15\n",
      "Distance in miles = 9.320565\n"
     ]
    }
   ],
   "source": [
    "km = int(input(\"Enter distance in Kilometers: \"))\n",
    "miles = km * 0.621371\n",
    "print(f\"Distance in miles = {miles}\")"
   ]
  },
  {
   "cell_type": "markdown",
   "metadata": {
    "id": "9u0Q_kqKWeNe"
   },
   "source": [
    "Question - 5 | Write a Python expression that extracts the substring “programming” from the string\n",
    "“Python programming is the best\" and then prints the result."
   ]
  },
  {
   "cell_type": "code",
   "execution_count": 8,
   "metadata": {
    "colab": {
     "base_uri": "https://localhost:8080/"
    },
    "executionInfo": {
     "elapsed": 456,
     "status": "ok",
     "timestamp": 1723781029793,
     "user": {
      "displayName": "Aman Shaikh",
      "userId": "00149777695970566427"
     },
     "user_tz": -330
    },
    "id": "kMPaA5-bWjV7",
    "outputId": "e4b4e7be-7f4d-47da-f37d-da388e61b6e5"
   },
   "outputs": [
    {
     "name": "stdout",
     "output_type": "stream",
     "text": [
      " programming\n"
     ]
    }
   ],
   "source": [
    "string = \"Python programming is the best\"\n",
    "sub = string[6:18]\n",
    "print(sub)"
   ]
  },
  {
   "cell_type": "markdown",
   "metadata": {
    "id": "SvOoxC4LWy_W"
   },
   "source": [
    "Question - 6 | Write a Python expression that checks if the string “racecar” is a palindrome and\n",
    "then prints the result (True or False)"
   ]
  },
  {
   "cell_type": "code",
   "execution_count": 10,
   "metadata": {
    "colab": {
     "base_uri": "https://localhost:8080/"
    },
    "executionInfo": {
     "elapsed": 3884,
     "status": "ok",
     "timestamp": 1723781109544,
     "user": {
      "displayName": "Aman Shaikh",
      "userId": "00149777695970566427"
     },
     "user_tz": -330
    },
    "id": "T1mW5N-YW6tK",
    "outputId": "41bf1d9d-4f32-45d6-c0c5-7354a198e101"
   },
   "outputs": [
    {
     "name": "stdout",
     "output_type": "stream",
     "text": [
      "Enter a string to check if it is palindrome racecar\n",
      "True\n"
     ]
    }
   ],
   "source": [
    "str = input(\"Enter a string to check if it is palindrome \")\n",
    "if str == str[::-1]:\n",
    "    print(\"True\")\n",
    "else:\n",
    "    print(\"False\")"
   ]
  },
  {
   "cell_type": "markdown",
   "metadata": {
    "id": "Gbms-af7XI6e"
   },
   "source": [
    "Question - 7 | Write a Python statement that splits the string \"apple,banana,orange\" into a list of\n",
    "fruits and then prints the result."
   ]
  },
  {
   "cell_type": "code",
   "execution_count": 11,
   "metadata": {
    "colab": {
     "base_uri": "https://localhost:8080/"
    },
    "executionInfo": {
     "elapsed": 474,
     "status": "ok",
     "timestamp": 1723781184978,
     "user": {
      "displayName": "Aman Shaikh",
      "userId": "00149777695970566427"
     },
     "user_tz": -330
    },
    "id": "TxhMnKfjXME0",
    "outputId": "fd518d2a-05fc-4764-f0d9-c58b609ada1b"
   },
   "outputs": [
    {
     "name": "stdout",
     "output_type": "stream",
     "text": [
      "['apple', 'banana', 'orange']\n"
     ]
    }
   ],
   "source": [
    "fruits = \"apple,banana,orange\".split(',')\n",
    "print(fruits)"
   ]
  },
  {
   "cell_type": "markdown",
   "metadata": {
    "id": "c8fD1HcGXZF8"
   },
   "source": [
    "Question - 8 | Write a Python expression that creates a new list containing only the even numbers\n",
    "from the list my_list = [1, 2, 3, 4, 5, 6, 7, 8, 9, 10]."
   ]
  },
  {
   "cell_type": "code",
   "execution_count": 12,
   "metadata": {
    "colab": {
     "base_uri": "https://localhost:8080/"
    },
    "executionInfo": {
     "elapsed": 439,
     "status": "ok",
     "timestamp": 1723781313648,
     "user": {
      "displayName": "Aman Shaikh",
      "userId": "00149777695970566427"
     },
     "user_tz": -330
    },
    "id": "XmMmxjbTXc-m",
    "outputId": "dd806320-92a1-47d9-89f1-063c9abfef71"
   },
   "outputs": [
    {
     "name": "stdout",
     "output_type": "stream",
     "text": [
      "[2, 4, 6, 8, 10]\n"
     ]
    }
   ],
   "source": [
    "my_list = [1, 2, 3, 4, 5, 6, 7, 8, 9, 10]\n",
    "even = [x for x in my_list if x % 2 == 0]\n",
    "print(even)"
   ]
  },
  {
   "cell_type": "markdown",
   "metadata": {
    "id": "uSnMrZhtXjSb"
   },
   "source": [
    "Question - 9 | Write a Python expression that removes duplicates from the list my_list = [1, 2, 2, 3,\n",
    "3, 3, 4, 5]."
   ]
  },
  {
   "cell_type": "code",
   "execution_count": 13,
   "metadata": {
    "colab": {
     "base_uri": "https://localhost:8080/"
    },
    "executionInfo": {
     "elapsed": 2,
     "status": "ok",
     "timestamp": 1723781369397,
     "user": {
      "displayName": "Aman Shaikh",
      "userId": "00149777695970566427"
     },
     "user_tz": -330
    },
    "id": "a8iuciroXk0s",
    "outputId": "ba982cc6-12a3-457e-9573-e89107544ac5"
   },
   "outputs": [
    {
     "name": "stdout",
     "output_type": "stream",
     "text": [
      "{1, 2, 3, 4, 5}\n"
     ]
    }
   ],
   "source": [
    "my_list = [1, 2, 2, 3, 3, 3, 4, 5]\n",
    "print(set(my_list))"
   ]
  },
  {
   "cell_type": "markdown",
   "metadata": {
    "id": "mjdW-AdIXlAo"
   },
   "source": [
    "Question - 10 | Write a Python expression that unpacks the tuple my_tuple = (10, \"apple\", 3.14) into\n",
    "three variables a, b, and c."
   ]
  },
  {
   "cell_type": "code",
   "execution_count": 14,
   "metadata": {
    "colab": {
     "base_uri": "https://localhost:8080/"
    },
    "executionInfo": {
     "elapsed": 463,
     "status": "ok",
     "timestamp": 1723781393116,
     "user": {
      "displayName": "Aman Shaikh",
      "userId": "00149777695970566427"
     },
     "user_tz": -330
    },
    "id": "BrjYsHWjXnSb",
    "outputId": "3aef53f9-e410-4a67-b61f-92a7a1c1853e"
   },
   "outputs": [
    {
     "name": "stdout",
     "output_type": "stream",
     "text": [
      "10\n",
      "apple\n",
      "3.14\n"
     ]
    }
   ],
   "source": [
    "my_tuple = (10, \"apple\", 3.14)\n",
    "a, b, c = my_tuple\n",
    "print(a)\n",
    "print(b)\n",
    "print(c)\n"
   ]
  },
  {
   "cell_type": "markdown",
   "metadata": {
    "id": "TqEb90N5Xna2"
   },
   "source": [
    "Question - 11 | Write a Python expression that finds the maximum value in the tuple my_tuple = (5,\n",
    "2, 8, 1, 9)."
   ]
  },
  {
   "cell_type": "code",
   "execution_count": 15,
   "metadata": {
    "colab": {
     "base_uri": "https://localhost:8080/"
    },
    "executionInfo": {
     "elapsed": 450,
     "status": "ok",
     "timestamp": 1723781422288,
     "user": {
      "displayName": "Aman Shaikh",
      "userId": "00149777695970566427"
     },
     "user_tz": -330
    },
    "id": "5D0qJ4-KXon1",
    "outputId": "da9d5c00-10fe-4e74-ebaa-64007dca9642"
   },
   "outputs": [
    {
     "name": "stdout",
     "output_type": "stream",
     "text": [
      "9\n"
     ]
    }
   ],
   "source": [
    "my_tuple = (5, 2, 8, 1, 9)\n",
    "print(max(my_tuple))\n"
   ]
  },
  {
   "cell_type": "markdown",
   "metadata": {
    "id": "7w9Ov1zXXscw"
   },
   "source": [
    "Question - 12 | Write a Python expression that creates a new dictionary by inverting the keys and\n",
    "values of the dictionary my_dict = {1: \"apple\", 2: \"banana\", 3: \"orange\"}, assuming\n",
    "all values are unique"
   ]
  },
  {
   "cell_type": "code",
   "execution_count": 18,
   "metadata": {
    "colab": {
     "base_uri": "https://localhost:8080/"
    },
    "executionInfo": {
     "elapsed": 481,
     "status": "ok",
     "timestamp": 1723781492061,
     "user": {
      "displayName": "Aman Shaikh",
      "userId": "00149777695970566427"
     },
     "user_tz": -330
    },
    "id": "i1QmxNrzXvrO",
    "outputId": "d46d1d45-cf99-4ddc-f54a-f2a5e8f46a00"
   },
   "outputs": [
    {
     "name": "stdout",
     "output_type": "stream",
     "text": [
      "{'apple': 1, 'banana': 2, 'orange': 3}\n"
     ]
    }
   ],
   "source": [
    "my_dict = {1: \"apple\", 2: \"banana\", 3: \"orange\"}\n",
    "new_dict = {v:k for k,v in my_dict.items()}\n",
    "print(new_dict)\n"
   ]
  },
  {
   "cell_type": "markdown",
   "metadata": {
    "id": "nsxpveRpYnPn"
   },
   "source": [
    "Question - 13 | Write a Python expression that removes the key-value pair with the key \"age\" from\n",
    "the dictionary my_dict = {\"name\": \"Alice\", \"age\": 30, \"city\": \"New York\"}."
   ]
  },
  {
   "cell_type": "code",
   "execution_count": 22,
   "metadata": {
    "colab": {
     "base_uri": "https://localhost:8080/"
    },
    "executionInfo": {
     "elapsed": 461,
     "status": "ok",
     "timestamp": 1723781678319,
     "user": {
      "displayName": "Aman Shaikh",
      "userId": "00149777695970566427"
     },
     "user_tz": -330
    },
    "id": "hnC7Qc7RYyDs",
    "outputId": "24cd6137-09a8-4053-cb34-83b4f6a0437f"
   },
   "outputs": [
    {
     "name": "stdout",
     "output_type": "stream",
     "text": [
      "{'name': 'Alice', 'city': 'New York'}\n"
     ]
    }
   ],
   "source": [
    "my_dict = {\"name\": \"Alice\", \"age\": 30, \"city\": \"New York\"}\n",
    "my_dict.pop(\"age\")\n",
    "print(my_dict)\n"
   ]
  },
  {
   "cell_type": "markdown",
   "metadata": {
    "id": "jH3jE89GZTUQ"
   },
   "source": [
    "Question - 14 | Write a Python expression that creates a new set containing all the elements from\n",
    "set1 = {1, 2, 3, 4} that are not present in set2 = {3, 4, 5, 6}."
   ]
  },
  {
   "cell_type": "code",
   "execution_count": 23,
   "metadata": {
    "colab": {
     "base_uri": "https://localhost:8080/"
    },
    "executionInfo": {
     "elapsed": 457,
     "status": "ok",
     "timestamp": 1723781713557,
     "user": {
      "displayName": "Aman Shaikh",
      "userId": "00149777695970566427"
     },
     "user_tz": -330
    },
    "id": "3Lr6oY6tZWB8",
    "outputId": "9da2a780-c5ea-4db9-828e-c25617a8f5bd"
   },
   "outputs": [
    {
     "name": "stdout",
     "output_type": "stream",
     "text": [
      "{1, 2}\n"
     ]
    }
   ],
   "source": [
    "set1 = {1, 2, 3, 4}\n",
    "set2 = {3, 4, 5, 6}\n",
    "print(set1 - set2)\n"
   ]
  },
  {
   "cell_type": "markdown",
   "metadata": {
    "id": "yjZLb0aCZa6K"
   },
   "source": [
    "Question - 15 | Write a Python expression that creates a new set containing all the elements from\n",
    "set1 = {1, 2, 3, 4} and set2 = {3, 4, 5, 6}, removing any duplicates."
   ]
  },
  {
   "cell_type": "code",
   "execution_count": 25,
   "metadata": {
    "colab": {
     "base_uri": "https://localhost:8080/"
    },
    "executionInfo": {
     "elapsed": 439,
     "status": "ok",
     "timestamp": 1723781784697,
     "user": {
      "displayName": "Aman Shaikh",
      "userId": "00149777695970566427"
     },
     "user_tz": -330
    },
    "id": "5EHShcP8Ze_A",
    "outputId": "8e45f44a-4775-4ea1-bee0-65da7c14b173"
   },
   "outputs": [
    {
     "name": "stdout",
     "output_type": "stream",
     "text": [
      "{1, 2, 3, 4, 5, 6}\n"
     ]
    }
   ],
   "source": [
    "set1 = {1, 2, 3, 4}\n",
    "set2 = {3, 4, 5, 6}\n",
    "print(set1 | set2)"
   ]
  }
 ],
 "metadata": {
  "colab": {
   "authorship_tag": "ABX9TyON07XZxYBNENw9+bqn4gqu",
   "provenance": []
  },
  "kernelspec": {
   "display_name": "Python 3 (ipykernel)",
   "language": "python",
   "name": "python3"
  },
  "language_info": {
   "codemirror_mode": {
    "name": "ipython",
    "version": 3
   },
   "file_extension": ".py",
   "mimetype": "text/x-python",
   "name": "python",
   "nbconvert_exporter": "python",
   "pygments_lexer": "ipython3",
   "version": "3.10.12"
  }
 },
 "nbformat": 4,
 "nbformat_minor": 1
}
