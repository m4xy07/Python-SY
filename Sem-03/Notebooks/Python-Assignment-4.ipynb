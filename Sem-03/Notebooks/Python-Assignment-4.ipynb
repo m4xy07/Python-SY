{
  "nbformat": 4,
  "nbformat_minor": 0,
  "metadata": {
    "colab": {
      "provenance": []
    },
    "kernelspec": {
      "name": "python3",
      "display_name": "Python 3"
    },
    "language_info": {
      "name": "python"
    }
  },
  "cells": [
    {
      "cell_type": "markdown",
      "source": [
        "### **Assignment - 4 | Aman Shaikh | F - 03 | Python**"
      ],
      "metadata": {
        "id": "WscZEj9eQxTo"
      }
    },
    {
      "cell_type": "code",
      "source": [
        "# Q.01 - Write a python program to calculate the length of string"
      ],
      "metadata": {
        "id": "EwaqH7GV19pL"
      },
      "execution_count": null,
      "outputs": []
    },
    {
      "cell_type": "code",
      "source": [
        "my_string = \"Hello\"\n",
        "length = len(my_string)\n",
        "print(length)\n"
      ],
      "metadata": {
        "colab": {
          "base_uri": "https://localhost:8080/"
        },
        "id": "9H3EGR7ThPVM",
        "outputId": "01389bcc-04fa-4bce-de55-59f1c3543c30"
      },
      "execution_count": null,
      "outputs": [
        {
          "output_type": "stream",
          "name": "stdout",
          "text": [
            "5\n"
          ]
        }
      ]
    },
    {
      "cell_type": "code",
      "source": [
        "# Q.02 - Write a python program to count the number of characters (character frequency) in the string."
      ],
      "metadata": {
        "id": "GpEGCxYZ2hJz"
      },
      "execution_count": null,
      "outputs": []
    },
    {
      "cell_type": "code",
      "source": [
        "my_string = \"This is python programming\"\n",
        "char_frequency = {}\n",
        "for char in my_string:\n",
        "  if char in char_frequency:\n",
        "    char_frequency[char] += 1\n",
        "  else:\n",
        "    char_frequency[char] = 1\n",
        "print(char_frequency)\n"
      ],
      "metadata": {
        "colab": {
          "base_uri": "https://localhost:8080/"
        },
        "id": "RFg-p0V0hgTb",
        "outputId": "3dbed825-cddb-4a87-ec1a-dce163edce8e"
      },
      "execution_count": null,
      "outputs": [
        {
          "output_type": "stream",
          "name": "stdout",
          "text": [
            "{'T': 1, 'h': 2, 'i': 3, 's': 2, ' ': 3, 'p': 2, 'y': 1, 't': 1, 'o': 2, 'n': 2, 'r': 2, 'g': 2, 'a': 1, 'm': 2}\n"
          ]
        }
      ]
    },
    {
      "cell_type": "code",
      "source": [
        "# Q.03 - Write a Python program to get a string made of the first 2 and last 2 characters of a given string. If the string length is less than 2, return the empty string instead.\n",
        "# Sample String : 'Tushar Mahore'\n",
        "# Expected Result : 'Ture'\n",
        "# Sample String : 'Batman'\n",
        "# Expected Result : 'Baan'\n",
        "# Sample String : 'w'\n",
        "# Expected Result : Empty String"
      ],
      "metadata": {
        "id": "oh_f9BxP3f9I"
      },
      "execution_count": null,
      "outputs": []
    },
    {
      "cell_type": "code",
      "source": [
        "string = 'No miracles. No mercy'\n",
        "if len(string) < 2:\n",
        "  print(\"Error, size is not adequete\")\n",
        "else:\n",
        "  print(string[:2] + string[-2:])\n",
        "\n"
      ],
      "metadata": {
        "colab": {
          "base_uri": "https://localhost:8080/"
        },
        "id": "jcR826sjhqM-",
        "outputId": "f0da0fc0-f644-45fa-ce8b-421be2b0d462"
      },
      "execution_count": null,
      "outputs": [
        {
          "output_type": "stream",
          "name": "stdout",
          "text": [
            "Nocy\n"
          ]
        }
      ]
    },
    {
      "cell_type": "code",
      "source": [
        "# Q.04 - Write a Python program to get a string from a given string where all occurrences of its first char have been changed to '$', except the first char itself.\n",
        "# Sample String : 'restart'\n",
        "# Expected Result : 'resta$t'"
      ],
      "metadata": {
        "id": "GeLCCq-p4CJm"
      },
      "execution_count": null,
      "outputs": []
    },
    {
      "cell_type": "code",
      "source": [
        "string = 'restart'\n",
        "first_char = string[0]\n",
        "new_string = string.replace(first_char, '$')\n",
        "new_string = first_char + new_string[1:]\n",
        "print(new_string)\n"
      ],
      "metadata": {
        "colab": {
          "base_uri": "https://localhost:8080/"
        },
        "id": "rv-OfNiaiHxu",
        "outputId": "b2b2a024-b630-4f45-eec9-e837a3a86cad"
      },
      "execution_count": null,
      "outputs": [
        {
          "output_type": "stream",
          "name": "stdout",
          "text": [
            "resta$t\n"
          ]
        }
      ]
    },
    {
      "cell_type": "code",
      "source": [
        "# Q.05 -  Write a Python program to add 'ing' at the end of a given string (length should be at least 3). If the given string already ends with 'ing', add 'ly' instead. If the string length of the given string is less than 3, leave it unchanged.\n",
        "# Sample String : 'abc'\n",
        "# Expected Result : 'abcing'\n",
        "# Sample String : 'string'\n",
        "# Expected Result : 'stringly'"
      ],
      "metadata": {
        "id": "fsx4UuEQ4pAc"
      },
      "execution_count": null,
      "outputs": []
    },
    {
      "cell_type": "code",
      "source": [
        "s = input(\"Enter a string: \")\n",
        "if len(s) >= 3:\n",
        "    if s.endswith(\"ing\"):\n",
        "        s += \"ly\"\n",
        "    else:\n",
        "        s += \"ing\"\n",
        "\n",
        "print(s)\n"
      ],
      "metadata": {
        "colab": {
          "base_uri": "https://localhost:8080/"
        },
        "id": "8T6Jl5IPiRVc",
        "outputId": "53351a69-d63b-4403-eb97-197e6584169f"
      },
      "execution_count": null,
      "outputs": [
        {
          "output_type": "stream",
          "name": "stdout",
          "text": [
            "Enter a string: Batman\n",
            "Batmaning\n"
          ]
        }
      ]
    },
    {
      "cell_type": "code",
      "source": [
        "# Q.06 - Python program to check whether the string is Symmetrical or Palindrome\n",
        "\n",
        "# Input: khokho\n",
        "# Output:\n",
        "# The entered string is symmetrical\n",
        "# The entered string is not palindrome\n",
        "\n",
        "# Input:amaama\n",
        "# Output:\n",
        "# The entered string is symmetrical\n",
        "# The entered string is palindrome"
      ],
      "metadata": {
        "id": "jBI9qAzZ51Z6"
      },
      "execution_count": null,
      "outputs": []
    },
    {
      "cell_type": "code",
      "source": [
        "s = input(\"Enter a string: \")\n",
        "\n",
        "half = len(s) // 2\n",
        "\n",
        "if len(s) % 2 == 0:\n",
        "    if s[:half] == s[half:]:\n",
        "        print(\"The entered string is symmetrical\")\n",
        "    else:\n",
        "        print(\"The entered string is not symmetrical\")\n",
        "else:\n",
        "    if s[:half] == s[half + 1:]:\n",
        "        print(\"The entered string is symmetrical\")\n",
        "    else:\n",
        "        print(\"The entered string is not symmetrical\")\n",
        "\n",
        "if s == s[::-1]:\n",
        "    print(\"The entered string is palindrome\")\n",
        "else:\n",
        "    print(\"The entered string is not palindrome\")\n"
      ],
      "metadata": {
        "colab": {
          "base_uri": "https://localhost:8080/"
        },
        "id": "Or1F1j3EijqW",
        "outputId": "741ad285-787d-4302-c4bd-11dcc4b4566b"
      },
      "execution_count": null,
      "outputs": [
        {
          "output_type": "stream",
          "name": "stdout",
          "text": [
            "Enter a string: I am Batman\n",
            "The entered string is not symmetrical\n",
            "The entered string is not palindrome\n"
          ]
        }
      ]
    },
    {
      "cell_type": "code",
      "source": [
        "# Q.07 - Reverse Words in a Given String in Python\n",
        "# Input : str =\"This is python programming\"\n",
        "# Output : str = programming python is this\n",
        "# Input : str = \"my name is Tushar\"\n",
        "# output : str= Tushar is name my"
      ],
      "metadata": {
        "id": "JCPdvbBO7c8F"
      },
      "execution_count": null,
      "outputs": []
    },
    {
      "cell_type": "code",
      "source": [
        "s = input(\"Enter a string: \")\n",
        "\n",
        "reversed_s = ' '.join(s.split()[::-1])\n",
        "print(\"Reversed string:\", reversed_s)\n"
      ],
      "metadata": {
        "colab": {
          "base_uri": "https://localhost:8080/"
        },
        "id": "eHCikwNUiz57",
        "outputId": "49e72cf3-4631-4312-873e-b50a6f413e1b"
      },
      "execution_count": null,
      "outputs": [
        {
          "output_type": "stream",
          "name": "stdout",
          "text": [
            "Enter a string: I am the dark\n",
            "Reversed string: dark the am I\n"
          ]
        }
      ]
    },
    {
      "cell_type": "code",
      "source": [
        "# Q.08 - Given a String, compute all the characters, except spaces."
      ],
      "metadata": {
        "id": "_IQ_iKQa8AfW"
      },
      "execution_count": null,
      "outputs": []
    },
    {
      "cell_type": "code",
      "source": [
        "s = input(\"Enter a string: \")\n",
        "character_count = len([char for char in s if char != ' '])\n",
        "\n",
        "print(\"Character count (excluding spaces):\", character_count)\n"
      ],
      "metadata": {
        "colab": {
          "base_uri": "https://localhost:8080/"
        },
        "id": "oF04oXAsi_Ot",
        "outputId": "36e5dfb8-25d8-4460-f473-b31c65816809"
      },
      "execution_count": null,
      "outputs": [
        {
          "output_type": "stream",
          "name": "stdout",
          "text": [
            "Enter a string: I am Batman\n",
            "Character count (excluding spaces): 9\n"
          ]
        }
      ]
    },
    {
      "cell_type": "code",
      "source": [
        "# Q.09 - Python program to print even length words in a string\n",
        "# Given a string. The task is to print all words with even length in the given string."
      ],
      "metadata": {
        "id": "46qBRdqo7qrG"
      },
      "execution_count": null,
      "outputs": []
    },
    {
      "cell_type": "code",
      "source": [
        "s = input(\"Enter a string: \")\n",
        "even = [word for word in s.split() if len(word) % 2 == 0]\n",
        "\n",
        "print(\"Even length words:\", ' '.join(even))\n"
      ],
      "metadata": {
        "colab": {
          "base_uri": "https://localhost:8080/"
        },
        "id": "4vVo554VjaUt",
        "outputId": "f06afe9a-89bb-474b-8e1a-6e4be38b8247"
      },
      "execution_count": null,
      "outputs": [
        {
          "output_type": "stream",
          "name": "stdout",
          "text": [
            "Enter a string: You either die a hero or live long enough to see yourself become the villain\n",
            "Even length words: either hero or live long enough to yourself become\n"
          ]
        }
      ]
    },
    {
      "cell_type": "code",
      "source": [
        "# Q.10 - Python – Uppercase Half String\n",
        "# Given a String, perform uppercase of the later part of the string."
      ],
      "metadata": {
        "id": "n22iSdSE8EhL"
      },
      "execution_count": null,
      "outputs": []
    },
    {
      "cell_type": "code",
      "source": [
        "s = input(\"Enter a string: \")\n",
        "\n",
        "\n",
        "half = len(s) // 2\n",
        "\n",
        "if len(s) % 2 == 0:\n",
        "    result = s[:half] + s[half:].upper()\n",
        "else:\n",
        "    result = s[:half+1] + s[half+1:].upper()\n",
        "\n",
        "print(\"Modified string:\", result)\n"
      ],
      "metadata": {
        "colab": {
          "base_uri": "https://localhost:8080/"
        },
        "id": "47zb32sajq-E",
        "outputId": "1c117a17-ac2f-4331-d3d9-c3f541268e17"
      },
      "execution_count": null,
      "outputs": [
        {
          "output_type": "stream",
          "name": "stdout",
          "text": [
            "Enter a string: The Shadow's Wings Are A Welcome, Protective Blanket\n",
            "Modified string: The Shadow's Wings Are A WELCOME, PROTECTIVE BLANKET\n"
          ]
        }
      ]
    },
    {
      "cell_type": "code",
      "source": [
        "# Q.11 - Convert numeric words to numbers\n",
        "# Given a string S, containing numeric words, the task is to convert the given string to the actual number.\n",
        "\n",
        "# Example Output\n",
        "# Input: S = “zero four zero one”\n",
        "# Output: 0401\n",
        "\n",
        "# Input: S = “four zero one four”\n",
        "# Output: 4014"
      ],
      "metadata": {
        "id": "NmI7KgTc8l1j"
      },
      "execution_count": null,
      "outputs": []
    },
    {
      "cell_type": "code",
      "source": [
        "s = input(\"Enter a string: \")\n",
        "\n",
        "num_dict = {\n",
        "    \"zero\": \"0\", \"one\": \"1\", \"two\": \"2\", \"three\": \"3\",\n",
        "    \"four\": \"4\", \"five\": \"5\", \"six\": \"6\",\n",
        "    \"seven\": \"7\", \"eight\": \"8\", \"nine\": \"9\"\n",
        "}\n",
        "\n",
        "result = ''.join([num_dict[word] for word in s.split()])\n",
        "print(\"Converted number:\", result)\n"
      ],
      "metadata": {
        "colab": {
          "base_uri": "https://localhost:8080/"
        },
        "id": "ab4qcVJnkK1w",
        "outputId": "70c000f9-6f94-4e83-854f-018ba12c669d"
      },
      "execution_count": null,
      "outputs": [
        {
          "output_type": "stream",
          "name": "stdout",
          "text": [
            "Enter a string: one three three seven\n",
            "Converted number: 1337\n"
          ]
        }
      ]
    },
    {
      "cell_type": "code",
      "source": [
        "# Q.12 - Split String on vowels\n",
        "# Given a String, perform split on vowels.\n",
        "\n",
        "# Input : test_str = ‘TRMaBst’\n",
        "# Output : [‘TRM’, ‘Bst’]\n",
        "# Explanation : a is vowel and split happens on that.\n",
        "\n",
        "# Input : test_str = ‘TRMaBstuforipython’\n",
        "# Output : [‘TRM’, ‘Bst’, ‘f’, ‘r’, ‘pyth’, ‘n’]\n",
        "# Explanation : a, e, o, u, i are vowels and split happens on that."
      ],
      "metadata": {
        "id": "oG8z8ChkBZ9g"
      },
      "execution_count": null,
      "outputs": []
    },
    {
      "cell_type": "code",
      "source": [
        "test_str = input(\"Enter a string: \")\n",
        "\n",
        "vowels = \"aeiouAEIOU\"\n",
        "\n",
        "split = [part for part in test_str if part not in vowels]\n",
        "result = []\n",
        "current = \"\"\n",
        "\n",
        "for char in split:\n",
        "    if char in vowels:\n",
        "        if current:\n",
        "            result.append(current)\n",
        "            current = \"\"\n",
        "    else:\n",
        "        current += char\n",
        "\n",
        "if current:\n",
        "    result.append(current)\n",
        "\n",
        "print(\"Split string:\", result)\n"
      ],
      "metadata": {
        "id": "CRdfpcs4DzJC",
        "colab": {
          "base_uri": "https://localhost:8080/"
        },
        "outputId": "d0312d99-61a2-476b-ab3b-c4bfbd8413e5"
      },
      "execution_count": null,
      "outputs": [
        {
          "output_type": "stream",
          "name": "stdout",
          "text": [
            "Enter a string: I am Batman\n",
            "Split string: [' m Btmn']\n"
          ]
        }
      ]
    }
  ]
}