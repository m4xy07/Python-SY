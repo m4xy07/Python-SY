{
 "cells": [
  {
   "cell_type": "code",
   "execution_count": 9,
   "metadata": {},
   "outputs": [
    {
     "name": "stdout",
     "output_type": "stream",
     "text": [
      "[[ 1  2  3]\n",
      " [ 4  5  6]\n",
      " [ 7  8  9]\n",
      " [10 11 12]]\n",
      "[[1 2 3]\n",
      " [4 5 6]]\n",
      "(2, 3)\n",
      "2\n",
      "6\n",
      "int64\n",
      "8\n",
      "<memory at 0x000002291C5A7ED0>\n",
      "[[2 3 4]\n",
      " [5 6 7]]\n",
      "[[ 2  4  6]\n",
      " [ 8 10 12]]\n",
      "[[ 1  4  9]\n",
      " [16 25 36]]\n",
      "[[0.5 1.  1.5]\n",
      " [2.  2.5 3. ]]\n",
      "[[1 0 1]\n",
      " [0 1 0]]\n",
      "[[0 1 1]\n",
      " [2 2 3]]\n",
      "[1 2 3]\n",
      "1\n",
      "1\n",
      "[1 2 3]\n",
      "[1 4]\n",
      "[[1 2]\n",
      " [4 5]]\n"
     ]
    }
   ],
   "source": [
    "import numpy as np\n",
    "\n",
    "arr = np.array([[1, 2, 3, 4, 5, 6], [ 7, 8, 9, 10, 11, 12]])\n",
    "reshaped_arr = arr.reshape((4, 3))\n",
    "print(reshaped_arr)\n",
    "arr1, arr2 = np.split(reshaped_arr, 2)\n",
    "print(arr1)\n",
    "print(arr1.shape)\n",
    "print(arr1.ndim)\n",
    "print(arr1.size)\n",
    "print(arr1.dtype)\n",
    "print(arr1.itemsize)\n",
    "print(arr1.data)\n",
    "print(arr1 + 1)\n",
    "print(arr1 * 2)\n",
    "print(arr1 ** 2)\n",
    "print(arr1 / 2)\n",
    "print(arr1 % 2)\n",
    "print(arr1 // 2)\n",
    "print(arr1[0])\n",
    "print(arr1[0][0])\n",
    "print(arr1[0, 0])\n",
    "print(arr1[0, :])\n",
    "print(arr1[:, 0])\n",
    "print(arr1[:, 0:2])"
   ]
  }
 ],
 "metadata": {
  "kernelspec": {
   "display_name": ".venv",
   "language": "python",
   "name": "python3"
  },
  "language_info": {
   "codemirror_mode": {
    "name": "ipython",
    "version": 3
   },
   "file_extension": ".py",
   "mimetype": "text/x-python",
   "name": "python",
   "nbconvert_exporter": "python",
   "pygments_lexer": "ipython3",
   "version": "3.12.4"
  }
 },
 "nbformat": 4,
 "nbformat_minor": 2
}
