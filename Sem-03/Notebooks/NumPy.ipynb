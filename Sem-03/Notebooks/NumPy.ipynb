{
 "cells": [
  {
   "cell_type": "code",
   "execution_count": 1,
   "metadata": {},
   "outputs": [
    {
     "name": "stdout",
     "output_type": "stream",
     "text": [
      "[[ 1  2  3]\n",
      " [ 4  5  6]\n",
      " [ 7  8  9]\n",
      " [10 11 12]]\n",
      "[[1 2 3]\n",
      " [4 5 6]]\n",
      "[1 2 3]\n",
      "1\n",
      "1\n",
      "[1 2 3]\n",
      "[1 4]\n",
      "[[1 2]\n",
      " [4 5]]\n",
      "[[1 2]\n",
      " [3 4]\n",
      " [5 6]\n",
      " [7 8]]\n"
     ]
    },
    {
     "ename": "",
     "evalue": "",
     "output_type": "error",
     "traceback": [
      "\u001b[1;31mThe Kernel crashed while executing code in the current cell or a previous cell. \n",
      "\u001b[1;31mPlease review the code in the cell(s) to identify a possible cause of the failure. \n",
      "\u001b[1;31mClick <a href='https://aka.ms/vscodeJupyterKernelCrash'>here</a> for more info. \n",
      "\u001b[1;31mView Jupyter <a href='command:jupyter.viewOutput'>log</a> for further details."
     ]
    }
   ],
   "source": [
    "import numpy as np\n",
    "\n",
    "arr = np.array([[1, 2, 3, 4, 5, 6], [ 7, 8, 9, 10, 11, 12]])\n",
    "reshaped_arr = arr.reshape((4, 3))\n",
    "print(reshaped_arr)\n",
    "arr1, arr2 = np.split(reshaped_arr, 2)\n",
    "print(arr1)\n",
    "# print(arr1.shape)\n",
    "# print(arr1.ndim)\n",
    "# print(arr1.size)\n",
    "# print(arr1.dtype)\n",
    "# print(arr1.itemsize)\n",
    "# print(arr1.data)\n",
    "# print(arr1 + 1)\n",
    "# print(arr1 * 2)\n",
    "# print(arr1 ** 2)\n",
    "# print(arr1 / 2)\n",
    "# print(arr1 % 2)\n",
    "# print(arr1 // 2)\n",
    "print(arr1[0])\n",
    "print(arr1[0][0])\n",
    "print(arr1[0, 0])\n",
    "print(arr1[0, :])\n",
    "print(arr1[:, 0])\n",
    "print(arr1[:, 0:2])\n",
    "\n",
    "arr1 = np.array([[1, 2], [3, 4]])\n",
    "arr2 = np.array([[5, 6], [7, 8]])\n",
    "print(np.concatenate([arr1, arr2], axis=0))"
   ]
  }
 ],
 "metadata": {
  "kernelspec": {
   "display_name": ".venv",
   "language": "python",
   "name": "python3"
  },
  "language_info": {
   "codemirror_mode": {
    "name": "ipython",
    "version": 3
   },
   "file_extension": ".py",
   "mimetype": "text/x-python",
   "name": "python",
   "nbconvert_exporter": "python",
   "pygments_lexer": "ipython3",
   "version": "3.12.4"
  }
 },
 "nbformat": 4,
 "nbformat_minor": 2
}
