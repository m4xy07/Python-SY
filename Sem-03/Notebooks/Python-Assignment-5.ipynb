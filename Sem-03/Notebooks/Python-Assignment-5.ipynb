{
  "nbformat": 4,
  "nbformat_minor": 0,
  "metadata": {
    "colab": {
      "provenance": []
    },
    "kernelspec": {
      "name": "python3",
      "display_name": "Python 3"
    },
    "language_info": {
      "name": "python"
    }
  },
  "cells": [
    {
      "cell_type": "markdown",
      "source": [
        "### Python - Assignment Unit IV"
      ],
      "metadata": {
        "id": "X18IvJpAi3CX"
      }
    },
    {
      "cell_type": "markdown",
      "source": [
        "* Name: Aman Shaikh\n",
        "* Sec: F\n",
        "* Roll No: 03\n",
        "\n",
        "\n",
        "\n"
      ],
      "metadata": {
        "id": "JpJ9Bfb_pP_H"
      }
    },
    {
      "cell_type": "markdown",
      "source": [
        "1. Write a function sum_of_evens(n) that returns the sum of all even numbers from 1 to n.\n",
        "2. Create a function is_leap_year(year) that checks whether a given year is a leap year or not.\n",
        "3. Write a function simple_interest(principal, rate, time) that calculates the simple interest for a given principal amount, rate of interest, and time (in years).\n",
        "4. Write a function common_elements(list1, list2) that returns a list of common elements between two lists.\n",
        "5. Create a function average_grade(grades) that takes a list of student grades and returns the average grade.\n",
        "6. Write a function is_valid_email(email) that checks if an email address is valid (contains '@' and a domain name).\n",
        "7. Write a function are_anagrams(str1, str2) that checks if two strings are anagrams.\n",
        "8. Write a function prime_numbers(n) that generates all prime numbers from 1 to n.\n",
        "9. Write a function generate_password(length) that generates a random password of a specified length.\n",
        "10. Create a recursive function gcd(a, b) that returns the greatest common divisor (GCD) of two numbers."
      ],
      "metadata": {
        "id": "wPn7foAUiqtU"
      }
    },
    {
      "cell_type": "markdown",
      "source": [
        "Q1. Write a function sum_of_evens(n) that returns the sum of all even numbers from 1 to n."
      ],
      "metadata": {
        "id": "8-uOncgQjAH0"
      }
    },
    {
      "cell_type": "code",
      "execution_count": null,
      "metadata": {
        "colab": {
          "base_uri": "https://localhost:8080/"
        },
        "id": "-bFZxIFLip69",
        "outputId": "3c160f35-b662-4d0f-9443-f8cae0ad3ad5"
      },
      "outputs": [
        {
          "output_type": "stream",
          "name": "stdout",
          "text": [
            "30\n"
          ]
        }
      ],
      "source": [
        "def sum_of_evens(n):\n",
        "  sum = 0\n",
        "  for i in range(1, n + 1):\n",
        "    if i % 2 == 0:\n",
        "      sum += i\n",
        "  return sum\n",
        "\n",
        "print(sum_of_evens(10))\n"
      ]
    },
    {
      "cell_type": "markdown",
      "source": [
        "Q2. Create a function is_leap_year(year) that checks whether a given year is a leap year or not."
      ],
      "metadata": {
        "id": "S69Gxo_rjNwh"
      }
    },
    {
      "cell_type": "code",
      "source": [
        "def is_leap_year(year):\n",
        "  if (year % 4 == 0 and year % 100 != 0) or year % 400 == 0:\n",
        "    return True\n",
        "  else:\n",
        "    return False\n",
        "\n",
        "print(is_leap_year(2024))\n"
      ],
      "metadata": {
        "colab": {
          "base_uri": "https://localhost:8080/"
        },
        "id": "G4eEEDVljR9G",
        "outputId": "ac7547df-025c-467e-e069-0cc436b072f6"
      },
      "execution_count": null,
      "outputs": [
        {
          "output_type": "stream",
          "name": "stdout",
          "text": [
            "True\n"
          ]
        }
      ]
    },
    {
      "cell_type": "markdown",
      "source": [
        "Q3. Write a function simple_interest(principal, rate, time) that calculates the simple interest for a given principal amount, rate of interest, and time (in years)."
      ],
      "metadata": {
        "id": "ZtszztTmjXky"
      }
    },
    {
      "cell_type": "code",
      "source": [
        "def simple_interest(principal, rate, time):\n",
        "\n",
        "  return (principal * rate * time) / 100\n",
        "\n",
        "print(simple_interest(1000, 5, 2))\n"
      ],
      "metadata": {
        "colab": {
          "base_uri": "https://localhost:8080/"
        },
        "id": "9ueCtX8YjZCI",
        "outputId": "b8ca673b-9f6c-414c-c1aa-2f55070b3fe9"
      },
      "execution_count": null,
      "outputs": [
        {
          "output_type": "stream",
          "name": "stdout",
          "text": [
            "100.0\n"
          ]
        }
      ]
    },
    {
      "cell_type": "markdown",
      "source": [
        "Q4. Write a function common_elements(list1, list2) that returns a list of common elements between two lists."
      ],
      "metadata": {
        "id": "tJL3fJ7sjgRy"
      }
    },
    {
      "cell_type": "code",
      "source": [
        "def common_elements(list1, list2):\n",
        "  common_list = []\n",
        "  for element in list1:\n",
        "    if element in list2 and element not in common_list:\n",
        "      common_list.append(element)\n",
        "  return common_list\n",
        "\n",
        "list1 = [1, 7, 8, 9, 0]\n",
        "list2 = [6, 5, 0, 9, 8]\n",
        "common_elements_list = common_elements(list1, list2)\n",
        "print(common_elements_list)\n"
      ],
      "metadata": {
        "colab": {
          "base_uri": "https://localhost:8080/"
        },
        "id": "bF54LBA8ji1E",
        "outputId": "0f0342aa-0a9c-4427-b147-73f94d90047d"
      },
      "execution_count": null,
      "outputs": [
        {
          "output_type": "stream",
          "name": "stdout",
          "text": [
            "[8, 9, 0]\n"
          ]
        }
      ]
    },
    {
      "cell_type": "markdown",
      "source": [
        "Q5. Create a function average_grade(grades) that takes a list of student grades and returns the average grade."
      ],
      "metadata": {
        "id": "1rhMEVmFj0NJ"
      }
    },
    {
      "cell_type": "code",
      "source": [
        "def average_grade(grades):\n",
        "  return sum(grades) / len(grades)\n",
        "\n",
        "grades = [66, 90, 58, 99, 88]\n",
        "average = average_grade(grades)\n",
        "print(average)\n"
      ],
      "metadata": {
        "colab": {
          "base_uri": "https://localhost:8080/"
        },
        "id": "xb9xBzvEj2yh",
        "outputId": "e89d94cb-5a55-45e5-d0df-04b793a0d3db"
      },
      "execution_count": null,
      "outputs": [
        {
          "output_type": "stream",
          "name": "stdout",
          "text": [
            "80.2\n"
          ]
        }
      ]
    },
    {
      "cell_type": "markdown",
      "source": [
        "Q6. Write a function is_valid_email(email) that checks if an email address is valid (contains '@' and a domain name)."
      ],
      "metadata": {
        "id": "fDCDq9c0kCm6"
      }
    },
    {
      "cell_type": "code",
      "source": [
        "def is_valid_email(email):\n",
        "  if '@' in email and '.' in email:\n",
        "    return True\n",
        "  else:\n",
        "    return False\n",
        "\n",
        "email = 'hey@m4xy.org'\n",
        "if is_valid_email(email):\n",
        "  print(f'{email} is a valid email')\n",
        "else:\n",
        "  print(f'{email} is an invalid email')\n"
      ],
      "metadata": {
        "colab": {
          "base_uri": "https://localhost:8080/"
        },
        "id": "u7v7BpD_kDhp",
        "outputId": "772de5b2-8006-4a66-d138-f9ee1b63ac32"
      },
      "execution_count": null,
      "outputs": [
        {
          "output_type": "stream",
          "name": "stdout",
          "text": [
            "hey@m4xy.org is a valid email\n"
          ]
        }
      ]
    },
    {
      "cell_type": "markdown",
      "source": [
        "Q7. Write a function are_anagrams(str1, str2) that checks if two strings are anagrams."
      ],
      "metadata": {
        "id": "YTF_Dq44kUsg"
      }
    },
    {
      "cell_type": "code",
      "source": [
        "def are_anagrams(str1, str2):\n",
        "  str1 = str1.lower()\n",
        "  str2 = str2.lower()\n",
        "  return sorted(str1) == sorted(str2)\n",
        "\n",
        "str1 = \"listen\"\n",
        "str2 = \"silent\"\n",
        "if are_anagrams(str1, str2):\n",
        "  print(f\"{str1} and {str2} are anagrams\")\n",
        "else:\n",
        "  print(f\"{str1} and {str2} are not anagrams\")\n"
      ],
      "metadata": {
        "colab": {
          "base_uri": "https://localhost:8080/"
        },
        "id": "bcwpNBzokY15",
        "outputId": "e2c8815c-2a58-45f5-9be0-f388329955ed"
      },
      "execution_count": null,
      "outputs": [
        {
          "output_type": "stream",
          "name": "stdout",
          "text": [
            "listen and silent are anagrams\n"
          ]
        }
      ]
    },
    {
      "cell_type": "markdown",
      "source": [
        "Q8. Write a function prime_numbers(n) that generates all prime numbers from 1 to n."
      ],
      "metadata": {
        "id": "-h5bbzuUoaJc"
      }
    },
    {
      "cell_type": "code",
      "source": [
        "def prime_numbers(n):\n",
        "  primes = []\n",
        "  for num in range(2, n + 1):\n",
        "    is_prime = True\n",
        "    for i in range(2, int(num**0.5) + 1):\n",
        "      if num % i == 0:\n",
        "        is_prime = False\n",
        "        break\n",
        "    if is_prime:\n",
        "      primes.append(num)\n",
        "  return primes\n",
        "\n",
        "n = 15\n",
        "primes = prime_numbers(n)\n",
        "print(f\"Prime numbers from 1 to {n}: {primes}\")\n"
      ],
      "metadata": {
        "colab": {
          "base_uri": "https://localhost:8080/"
        },
        "id": "Dg6wC-ceocnu",
        "outputId": "216f4431-a763-4746-a641-ec68ecc94363"
      },
      "execution_count": null,
      "outputs": [
        {
          "output_type": "stream",
          "name": "stdout",
          "text": [
            "Prime numbers from 1 to 15: [2, 3, 5, 7, 11, 13]\n"
          ]
        }
      ]
    },
    {
      "cell_type": "markdown",
      "source": [
        "Q9. Write a function generate_password(length) that generates a random password of a specified length."
      ],
      "metadata": {
        "id": "C2QfaMypoo48"
      }
    },
    {
      "cell_type": "code",
      "source": [
        "import random\n",
        "import string\n",
        "\n",
        "def generate_password(length):\n",
        "  characters = string.ascii_letters + string.digits + string.punctuation\n",
        "  password = ''.join(random.choice(characters) for i in range(length))\n",
        "  return password\n",
        "\n",
        "password_length = 8\n",
        "password = generate_password(password_length)\n",
        "print(f\"Generated password: {password}\")\n"
      ],
      "metadata": {
        "colab": {
          "base_uri": "https://localhost:8080/"
        },
        "id": "JrJpxnPSop-L",
        "outputId": "03d9ca79-82a2-4fc4-dcb5-3323f2093da4"
      },
      "execution_count": null,
      "outputs": [
        {
          "output_type": "stream",
          "name": "stdout",
          "text": [
            "Generated password: P.IF2~GG\n"
          ]
        }
      ]
    },
    {
      "cell_type": "markdown",
      "source": [
        "Q10. Create a recursive function gcd(a, b) that returns the greatest common divisor (GCD) of two numbers."
      ],
      "metadata": {
        "id": "UGomFFzxo2DJ"
      }
    },
    {
      "cell_type": "code",
      "source": [
        "def gcd(a, b):\n",
        "  if b == 0:\n",
        "    return a\n",
        "  else:\n",
        "    return gcd(b, a % b)\n",
        "\n",
        "num1 = 36\n",
        "num2 = 12\n",
        "result = gcd(num1, num2)\n",
        "print(f\"The GCD of {num1} and {num2} is {result}\")\n"
      ],
      "metadata": {
        "colab": {
          "base_uri": "https://localhost:8080/"
        },
        "id": "hJl7mVUyo3MF",
        "outputId": "97b8b90a-562f-4834-fe24-6528beb2f2a3"
      },
      "execution_count": null,
      "outputs": [
        {
          "output_type": "stream",
          "name": "stdout",
          "text": [
            "The GCD of 36 and 12 is 12\n"
          ]
        }
      ]
    },
    {
      "cell_type": "markdown",
      "source": [
        "## **Recursion in Python: Assignment Questions**\n",
        "1. Write a recursive function to compute the sum of the first N natural numbers.\n",
        "2. Implement a recursive function to check if an array is sorted in ascending order.\n",
        "3. Write a recursive function to count the number of digits in a given integer.\n",
        "4. Write a recursive function to find the greatest common divisor (GCD) of two numbers.\n",
        "5. Implement a recursive function to count the number of occurrences of a given element in a list."
      ],
      "metadata": {
        "id": "nzbwVISqOaBo"
      }
    },
    {
      "cell_type": "markdown",
      "source": [
        "Q1. Write a recursive function to compute the sum of the first N natural numbers."
      ],
      "metadata": {
        "id": "g41FIMey98m3"
      }
    },
    {
      "cell_type": "code",
      "source": [
        "\n",
        "def sum_natural(n):\n",
        "  if n == 0:\n",
        "    return 0\n",
        "  else:\n",
        "    return n + sum_natural(n-1)\n",
        "\n",
        "n = int(input(\"Enter a number \"))\n",
        "result = sum_natural(n)\n",
        "print(f\"The sum of the first {n} natural numbers is {result}\")\n"
      ],
      "metadata": {
        "colab": {
          "base_uri": "https://localhost:8080/"
        },
        "id": "7pjZqp2A95J1",
        "outputId": "5bb4727d-5862-4e0d-bae4-b1a1af5e83b7"
      },
      "execution_count": null,
      "outputs": [
        {
          "output_type": "stream",
          "name": "stdout",
          "text": [
            "Enter a number 7\n",
            "The sum of the first 7 natural numbers is 28\n"
          ]
        }
      ]
    },
    {
      "cell_type": "markdown",
      "source": [
        "Q2. Implement a recursive function to check if an array is sorted in ascending order."
      ],
      "metadata": {
        "id": "QNdU7xJx-x5l"
      }
    },
    {
      "cell_type": "code",
      "source": [
        "def is_sorted(arr):\n",
        "\n",
        "  if len(arr) <= 1:\n",
        "    return True\n",
        "  if arr[0] <= arr[1]:\n",
        "    return is_sorted(arr[1:])\n",
        "  else:\n",
        "    return False\n",
        "\n",
        "array = list(map(int, input(\"Enter an array \").split()))\n",
        "print(f\"Sorted: {is_sorted(array)}\")\n"
      ],
      "metadata": {
        "colab": {
          "base_uri": "https://localhost:8080/"
        },
        "id": "BTx2D6_H-zAa",
        "outputId": "1fd5754e-8a41-4d35-bbfb-70d8a2f41f58"
      },
      "execution_count": null,
      "outputs": [
        {
          "output_type": "stream",
          "name": "stdout",
          "text": [
            "Enter an array 1 2 3 4 5\n",
            "Sorted: True\n"
          ]
        }
      ]
    },
    {
      "cell_type": "markdown",
      "source": [
        "Q3. Write a recursive function to count the number of digits in a given integer."
      ],
      "metadata": {
        "id": "tWHQVREX2o6q"
      }
    },
    {
      "cell_type": "code",
      "source": [
        "def count(n):\n",
        "  if n == 0:\n",
        "    return 0\n",
        "  else:\n",
        "    return 1 + count(n // 10)\n",
        "\n",
        "num = int(input(\"Enter a number \"))\n",
        "print(f\"The number of digits in {num} is {count(num)}\")\n"
      ],
      "metadata": {
        "colab": {
          "base_uri": "https://localhost:8080/"
        },
        "id": "x5xif1P7BBeN",
        "outputId": "d8176d80-93bd-440a-b851-f8fa3d69728a"
      },
      "execution_count": null,
      "outputs": [
        {
          "output_type": "stream",
          "name": "stdout",
          "text": [
            "Enter a number 7500\n",
            "The number of digits in 7500 is 4\n"
          ]
        }
      ]
    },
    {
      "cell_type": "markdown",
      "source": [
        "Q4. Write a recursive function to find the greatest common divisor (GCD) of two numbers."
      ],
      "metadata": {
        "id": "7BzkXxb72qQj"
      }
    },
    {
      "cell_type": "code",
      "source": [
        "\n",
        "def gcd(a, b):\n",
        "  if b == 0:\n",
        "    return a\n",
        "  else:\n",
        "    return gcd(b, a % b)\n",
        "\n",
        "num1 = int(input(\"Enter the first number: \"))\n",
        "num2 = int(input(\"Enter the second number: \"))\n",
        "\n",
        "result = gcd(num1, num2)\n",
        "print(f\"The GCD of {num1} and {num2} is {result}\")\n"
      ],
      "metadata": {
        "id": "KqAl07Ep2sd9"
      },
      "execution_count": null,
      "outputs": []
    },
    {
      "cell_type": "markdown",
      "source": [
        "Q5. Implement a recursive function to count the number of occurrences of a given element in a list."
      ],
      "metadata": {
        "id": "TM5rfePV22rw"
      }
    },
    {
      "cell_type": "code",
      "source": [
        "def count_occurrences(lst, element):\n",
        "  if not lst:\n",
        "    return 0\n",
        "  elif lst[0] == element:\n",
        "    return 1 + count_occurrences(lst[1:], element)\n",
        "  else:\n",
        "    return count_occurrences(lst[1:], element)\n",
        "\n",
        "\n",
        "my_list = [1, 2, 3, 2, 4, 2, 5]\n",
        "element_to_count = 2\n",
        "occurrences = count_occurrences(my_list, element_to_count)\n",
        "print(f\"Occurances: {occurrences}\")\n"
      ],
      "metadata": {
        "id": "QfwvJ_Tm23pN"
      },
      "execution_count": null,
      "outputs": []
    },
    {
      "cell_type": "markdown",
      "source": [
        "# **OOP with Python: Assignment Questions**\n",
        "1. Write a Python program to create a class representing a Circle. Include methods to calculate its area and perimeter.\n",
        "2.  Write a Python program to create a calculator class. Include methods for basic arithmetic operations.\n",
        "3. Write a Python program to create a class representing a stack data structure. Include methods for pushing and popping elements.\n",
        "4. Write a Python program to create a class representing a shopping cart.Include methods for adding and removing items, and calculating the total price.\n",
        "5. Write a Python program to create a class representing a bank. Include methods for managing customer accounts and transactions.\n"
      ],
      "metadata": {
        "id": "TXShdRtAmD3u"
      }
    },
    {
      "cell_type": "markdown",
      "source": [
        "Q1. Write a Python program to create a class representing a Circle. Include methods to calculate its area and perimeter.\n"
      ],
      "metadata": {
        "id": "mpMJO_BV3OHh"
      }
    },
    {
      "cell_type": "code",
      "source": [
        "import math\n",
        "\n",
        "class Circle:\n",
        "    def __init__(self, radius):\n",
        "        self.radius = radius\n",
        "\n",
        "    def calculate_area(self):\n",
        "        return math.pi * self.radius * self.radius\n",
        "\n",
        "    def calculate_perimeter(self):\n",
        "        return 2 * math.pi * self.radius\n",
        "\n",
        "circle = Circle(7)\n",
        "print(\"Area:\", circle.calculate_area())\n",
        "print(\"Perimeter:\", circle.calculate_perimeter())\n"
      ],
      "metadata": {
        "colab": {
          "base_uri": "https://localhost:8080/"
        },
        "id": "o4hHKie-3Pzm",
        "outputId": "2b977ee7-9573-4460-91aa-d2905d363f3c"
      },
      "execution_count": 8,
      "outputs": [
        {
          "output_type": "stream",
          "name": "stdout",
          "text": [
            "Area: 153.93804002589985\n",
            "Perimeter: 43.982297150257104\n"
          ]
        }
      ]
    },
    {
      "cell_type": "markdown",
      "source": [
        "Q2. Write a Python program to create a calculator class. Include methods for basic arithmetic operations."
      ],
      "metadata": {
        "id": "q6gxEK-s3fPF"
      }
    },
    {
      "cell_type": "code",
      "source": [
        "class Calculator:\n",
        "    def add(self, x, y):\n",
        "        return x + y\n",
        "\n",
        "    def subtract(self, x, y):\n",
        "        return x - y\n",
        "\n",
        "    def multiply(self, x, y):\n",
        "        return x * y\n",
        "\n",
        "    def divide(self, x, y):\n",
        "        if y == 0:\n",
        "            return \"Cannot divide by zero\"\n",
        "        return x / y\n",
        "\n",
        "\n",
        "calculator = Calculator()\n",
        "\n",
        "print(\"Addition:\", calculator.add(5, 3))\n",
        "print(\"Subtraction:\", calculator.subtract(5, 3))\n",
        "print(\"Multiplication:\", calculator.multiply(5, 3))\n",
        "print(\"Division:\", calculator.divide(5, 3))\n"
      ],
      "metadata": {
        "colab": {
          "base_uri": "https://localhost:8080/"
        },
        "id": "80L-n7or3gFu",
        "outputId": "798c6a8f-a244-4195-cf13-a3f1309d9357"
      },
      "execution_count": 6,
      "outputs": [
        {
          "output_type": "stream",
          "name": "stdout",
          "text": [
            "Addition: 8\n",
            "Subtraction: 2\n",
            "Multiplication: 15\n",
            "Division: 1.6666666666666667\n"
          ]
        }
      ]
    },
    {
      "cell_type": "markdown",
      "source": [
        "Q3. Write a Python program to create a class representing a stack data structure. Include methods for pushing and popping elements."
      ],
      "metadata": {
        "id": "XSLV0_N23qTw"
      }
    },
    {
      "cell_type": "code",
      "source": [
        "class Stack:\n",
        "    def __init__(self):\n",
        "        self.items = []\n",
        "\n",
        "    def push(self, item):\n",
        "        self.items.append(item)\n",
        "\n",
        "    def pop(self):\n",
        "        if not self.is_empty():\n",
        "            return self.items.pop()\n",
        "        else:\n",
        "            return \"Stack is empty\"\n",
        "\n",
        "    def is_empty(self):\n",
        "        return len(self.items) == 0\n",
        "\n",
        "    def peek(self):\n",
        "        if not self.is_empty():\n",
        "            return self.items[-1]\n",
        "        else:\n",
        "            return \"Stack is empty\"\n",
        "\n",
        "    def size(self):\n",
        "        return len(self.items)\n",
        "\n",
        "\n",
        "stack = Stack()\n",
        "\n",
        "while True:\n",
        "    print(\"1. Push\")\n",
        "    print(\"2. Pop\")\n",
        "    print(\"3. Peek\")\n",
        "    print(\"4. Size\")\n",
        "    print(\"5. Exit\")\n",
        "\n",
        "    choice = input(\"Enter your choice: \")\n",
        "\n",
        "    if choice == '1':\n",
        "        item = input(\"Enter the item to push: \")\n",
        "        stack.push(item)\n",
        "        print(\"Item pushed successfully.\")\n",
        "\n",
        "    elif choice == '2':\n",
        "        item = stack.pop()\n",
        "        if item != \"Stack is empty\":\n",
        "            print(\"Popped item:\", item)\n",
        "        else:\n",
        "            print(item)\n",
        "\n",
        "    elif choice == '3':\n",
        "        item = stack.peek()\n",
        "        if item != \"Stack is empty\":\n",
        "            print(\"Top item:\", item)\n",
        "        else:\n",
        "            print(item)\n",
        "\n",
        "    elif choice == '4':\n",
        "        print(\"Size of stack:\", stack.size())\n",
        "\n",
        "    elif choice == '5':\n",
        "        break\n",
        "\n",
        "    else:\n",
        "        print(\"Invalid choice.\")\n",
        "\n"
      ],
      "metadata": {
        "colab": {
          "base_uri": "https://localhost:8080/"
        },
        "id": "I6rr9dT83rHo",
        "outputId": "b54dcc24-47a3-439f-adc9-bf7a9879c3c6"
      },
      "execution_count": 5,
      "outputs": [
        {
          "name": "stdout",
          "output_type": "stream",
          "text": [
            "1. Push\n",
            "2. Pop\n",
            "3. Peek\n",
            "4. Size\n",
            "5. Exit\n",
            "Enter your choice: 1\n",
            "Enter the item to push: 007\n",
            "Item pushed successfully.\n",
            "1. Push\n",
            "2. Pop\n",
            "3. Peek\n",
            "4. Size\n",
            "5. Exit\n",
            "Enter your choice: 3\n",
            "Top item: 007\n",
            "1. Push\n",
            "2. Pop\n",
            "3. Peek\n",
            "4. Size\n",
            "5. Exit\n",
            "Enter your choice: 1\n",
            "Enter the item to push: 0006\n",
            "Item pushed successfully.\n",
            "1. Push\n",
            "2. Pop\n",
            "3. Peek\n",
            "4. Size\n",
            "5. Exit\n",
            "Enter your choice: 4\n",
            "Size of stack: 2\n",
            "1. Push\n",
            "2. Pop\n",
            "3. Peek\n",
            "4. Size\n",
            "5. Exit\n",
            "Enter your choice: 2\n",
            "Popped item: 0006\n",
            "1. Push\n",
            "2. Pop\n",
            "3. Peek\n",
            "4. Size\n",
            "5. Exit\n",
            "Enter your choice: 3\n",
            "Top item: 007\n",
            "1. Push\n",
            "2. Pop\n",
            "3. Peek\n",
            "4. Size\n",
            "5. Exit\n",
            "Enter your choice: 5\n"
          ]
        }
      ]
    },
    {
      "cell_type": "markdown",
      "source": [
        "Q4. Write a Python program to create a class representing a shopping cart.Include methods for adding and removing items, and calculating the total price.\n"
      ],
      "metadata": {
        "id": "tjSsN_Of36DI"
      }
    },
    {
      "cell_type": "code",
      "source": [
        "class ShoppingCart:\n",
        "    def __init__(self):\n",
        "        self.items = {}\n",
        "\n",
        "    def add_item(self, item_name, price, quantity):\n",
        "        if item_name in self.items:\n",
        "            self.items[item_name]['quantity'] += quantity\n",
        "        else:\n",
        "            self.items[item_name] = {'price': price, 'quantity': quantity}\n",
        "\n",
        "    def remove_item(self, item_name, quantity):\n",
        "        if item_name in self.items:\n",
        "            if self.items[item_name]['quantity'] <= quantity:\n",
        "                del self.items[item_name]\n",
        "            else:\n",
        "                self.items[item_name]['quantity'] -= quantity\n",
        "        else:\n",
        "            print(\"Item not found in cart.\")\n",
        "\n",
        "    def calculate_total_price(self):\n",
        "        total_price = 0\n",
        "        for item_name in self.items:\n",
        "            total_price += self.items[item_name]['price'] * self.items[item_name]['quantity']\n",
        "        return total_price\n",
        "\n",
        "cart = ShoppingCart()\n",
        "cart.add_item(\"Pencil\", 1.0, 5)\n",
        "cart.add_item(\"iPhone\", 999.5, 2)\n",
        "cart.remove_item(\"Pencil\", 2)\n",
        "\n",
        "print(\"Total price:\", cart.calculate_total_price())\n"
      ],
      "metadata": {
        "colab": {
          "base_uri": "https://localhost:8080/"
        },
        "id": "m9ORmmDK37ET",
        "outputId": "7df202bf-9397-40bc-b97f-79a212ca828f"
      },
      "execution_count": 4,
      "outputs": [
        {
          "output_type": "stream",
          "name": "stdout",
          "text": [
            "Total price: 2002.0\n"
          ]
        }
      ]
    },
    {
      "cell_type": "markdown",
      "source": [
        "Q5. Write a Python program to create a class representing a bank. Include methods for managing customer accounts and transactions."
      ],
      "metadata": {
        "id": "kQmjqtOc4NDD"
      }
    },
    {
      "cell_type": "code",
      "source": [
        "class Bank:\n",
        "    def __init__(self):\n",
        "        self.accounts = {}\n",
        "\n",
        "    def create_account(self, account_number, initial_balance=0):\n",
        "        if account_number not in self.accounts:\n",
        "            self.accounts[account_number] = initial_balance\n",
        "            print(\"Account created successfully.\")\n",
        "        else:\n",
        "            print(\"Account number already exists.\")\n",
        "\n",
        "    def deposit(self, account_number, amount):\n",
        "        if account_number in self.accounts:\n",
        "            self.accounts[account_number] += amount\n",
        "            print(\"Deposit successful.\")\n",
        "        else:\n",
        "            print(\"Account not found.\")\n",
        "\n",
        "    def withdraw(self, account_number, amount):\n",
        "        if account_number in self.accounts:\n",
        "            if self.accounts[account_number] >= amount:\n",
        "                self.accounts[account_number] -= amount\n",
        "                print(\"Withdrawal successful.\")\n",
        "            else:\n",
        "                print(\"Insufficient balance.\")\n",
        "        else:\n",
        "            print(\"Account not found.\")\n",
        "\n",
        "    def get_balance(self, account_number):\n",
        "        if account_number in self.accounts:\n",
        "            return self.accounts[account_number]\n",
        "        else:\n",
        "            return \"Account not found.\"\n",
        "\n",
        "\n",
        "bank = Bank()\n",
        "\n",
        "while True:\n",
        "    print(\"1. Create Account\")\n",
        "    print(\"2. Deposit\")\n",
        "    print(\"3. Withdraw\")\n",
        "    print(\"4. Check Balance\")\n",
        "    print(\"5. Exit\")\n",
        "\n",
        "    choice = input(\"Enter your choice: \")\n",
        "\n",
        "    if choice == '1':\n",
        "        account_number = input(\"Enter account number: \")\n",
        "        initial_balance = float(input(\"Enter initial balance: \"))\n",
        "        bank.create_account(account_number, initial_balance)\n",
        "\n",
        "    elif choice == '2':\n",
        "        account_number = input(\"Enter account number: \")\n",
        "        amount = float(input(\"Enter deposit amount: \"))\n",
        "        bank.deposit(account_number, amount)\n",
        "\n",
        "    elif choice == '3':\n",
        "        account_number = input(\"Enter account number: \")\n",
        "        amount = float(input(\"Enter withdrawal amount: \"))\n",
        "        bank.withdraw(account_number, amount)\n",
        "\n",
        "    elif choice == '4':\n",
        "        account_number = input(\"Enter account number: \")\n",
        "        balance = bank.get_balance(account_number)\n",
        "        print(\"Current balance:\", balance)\n",
        "\n",
        "    elif choice == '5':\n",
        "        break\n",
        "\n",
        "    else:\n",
        "        print(\"Invalid choice.\")\n"
      ],
      "metadata": {
        "colab": {
          "base_uri": "https://localhost:8080/"
        },
        "id": "pVdByDXx4Oiv",
        "outputId": "3ac3b41a-e461-4707-c700-cbadfce0426d"
      },
      "execution_count": 1,
      "outputs": [
        {
          "name": "stdout",
          "output_type": "stream",
          "text": [
            "1. Create Account\n",
            "2. Deposit\n",
            "3. Withdraw\n",
            "4. Check Balance\n",
            "5. Exit\n",
            "Enter your choice: 1\n",
            "Enter account number: 007\n",
            "Enter initial balance: 1337\n",
            "Account created successfully.\n",
            "1. Create Account\n",
            "2. Deposit\n",
            "3. Withdraw\n",
            "4. Check Balance\n",
            "5. Exit\n",
            "Enter your choice: 2\n",
            "Enter account number: 007\n",
            "Enter deposit amount: 5000\n",
            "Deposit successful.\n",
            "1. Create Account\n",
            "2. Deposit\n",
            "3. Withdraw\n",
            "4. Check Balance\n",
            "5. Exit\n",
            "Enter your choice: 4\n",
            "Enter account number: 007\n",
            "Current balance: 6337.0\n",
            "1. Create Account\n",
            "2. Deposit\n",
            "3. Withdraw\n",
            "4. Check Balance\n",
            "5. Exit\n",
            "Enter your choice: 3\n",
            "Enter account number: 007\n",
            "Enter withdrawal amount: 1000\n",
            "Withdrawal successful.\n",
            "1. Create Account\n",
            "2. Deposit\n",
            "3. Withdraw\n",
            "4. Check Balance\n",
            "5. Exit\n",
            "Enter your choice: 4\n",
            "Enter account number: 007\n",
            "Current balance: 5337.0\n",
            "1. Create Account\n",
            "2. Deposit\n",
            "3. Withdraw\n",
            "4. Check Balance\n",
            "5. Exit\n",
            "Enter your choice: 5\n"
          ]
        }
      ]
    }
  ]
}